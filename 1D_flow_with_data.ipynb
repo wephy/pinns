{
 "cells": [
  {
   "cell_type": "code",
   "execution_count": 15,
   "metadata": {},
   "outputs": [],
   "source": [
    "import numpy as np\n",
    "\n",
    "import jax\n",
    "import jax.numpy as jnp\n",
    "import jax.random as jr\n",
    "import equinox as eqx\n",
    "import optax\n",
    "\n",
    "import matplotlib.pyplot as plt\n",
    "import scienceplots\n",
    "from cmap import Colormap"
   ]
  },
  {
   "cell_type": "code",
   "execution_count": 16,
   "metadata": {},
   "outputs": [],
   "source": [
    "cmap = Colormap(\"seaborn:mako\").to_mpl()"
   ]
  },
  {
   "cell_type": "code",
   "execution_count": 17,
   "metadata": {},
   "outputs": [],
   "source": [
    "h = 1\n",
    "mu = 1e-3\n",
    "G = 1e-3\n",
    "def velocity_field(x, y):\n",
    "    return G / (2 * mu) * (h**2 - y**2)"
   ]
  },
  {
   "cell_type": "code",
   "execution_count": 18,
   "metadata": {},
   "outputs": [
    {
     "data": {
      "text/plain": [
       "<matplotlib.colorbar.Colorbar at 0x254313d1a60>"
      ]
     },
     "execution_count": 18,
     "metadata": {},
     "output_type": "execute_result"
    },
    {
     "data": {
      "image/png": "[encoded data removed]",
      "text/plain": [
       "<Figure size 640x480 with 2 Axes>"
      ]
     },
     "metadata": {},
     "output_type": "display_data"
    }
   ],
   "source": [
    "x_mesh = jnp.linspace(0, 1)\n",
    "y_mesh = jnp.linspace(-1, 1)\n",
    "X, Y = jnp.meshgrid(x_mesh, y_mesh)\n",
    "V = velocity_field(X, Y)\n",
    "\n",
    "fig, ax = plt.subplots()\n",
    "ax.set_aspect('equal', adjustable='box')\n",
    "im = ax.contourf(X, Y, V, levels=20, cmap=cmap)\n",
    "fig.colorbar(im, ax=ax, label='velocity')"
   ]
  },
  {
   "cell_type": "code",
   "execution_count": 19,
   "metadata": {},
   "outputs": [],
   "source": [
    "N_COLLOCATION_POINTS = 100\n",
    "N_DATA_POINTS = 3\n",
    "N_BC_POINTS = 2\n",
    "\n",
    "LEARNING_RATE = 0.001\n",
    "N_OPTIMIZATION_EPOCHS = 20000\n",
    "\n",
    "BC_LOSS_WEIGHT = 500.0 / N_BC_POINTS\n",
    "DATA_LOSS_WEIGHT = 500.0 / N_DATA_POINTS"
   ]
  },
  {
   "cell_type": "code",
   "execution_count": 20,
   "metadata": {},
   "outputs": [],
   "source": [
    "key = jr.PRNGKey(42)"
   ]
  },
  {
   "cell_type": "code",
   "execution_count": 21,
   "metadata": {},
   "outputs": [],
   "source": [
    "key, init_key = jr.split(key)\n",
    "pinn = eqx.nn.MLP(\n",
    "    in_size=\"scalar\",\n",
    "    out_size=\"scalar\",\n",
    "    width_size=10,\n",
    "    depth=5,\n",
    "    activation=jax.nn.sigmoid,\n",
    "    key=key,\n",
    ")"
   ]
  },
  {
   "cell_type": "code",
   "execution_count": 22,
   "metadata": {},
   "outputs": [],
   "source": [
    "def pde_residuum(network, x):\n",
    "    return jax.grad(jax.grad(network))(x)"
   ]
  },
  {
   "cell_type": "code",
   "execution_count": 23,
   "metadata": {},
   "outputs": [],
   "source": [
    "def data_residuum(network, x):\n",
    "    return network(x) - velocity_field(0, x)"
   ]
  },
  {
   "cell_type": "code",
   "execution_count": 24,
   "metadata": {},
   "outputs": [],
   "source": [
    "key, coll_sampling_key = jr.split(key)\n",
    "collocation_points = jr.uniform(coll_sampling_key, (N_COLLOCATION_POINTS, ), minval=-1.0 + 1e-2, maxval=1.0 - 1e-2)\n",
    "\n",
    "# key, data_sampling_key = jr.split(key)\n",
    "data_points = jnp.array([0.0, 0.5, -0.5])\n",
    "\n",
    "def loss_fn(network):\n",
    "    pde_res_coll = jax.vmap(pde_residuum, in_axes=(None, 0))(network, collocation_points)\n",
    "    pde_loss = jnp.mean(jnp.square(pde_res_coll))\n",
    "    \n",
    "    left_bc_res = network(-1.0) - 0.0\n",
    "    right_bc_res = network(1.0) - 0.0\n",
    "    bc_loss = jnp.mean(jnp.square(left_bc_res)) + jnp.mean(jnp.square(right_bc_res))\n",
    "\n",
    "    data_res = jax.vmap(data_residuum, in_axes=(None, 0))(network, data_points)\n",
    "    data_loss = jnp.mean(jnp.square(data_res))\n",
    "    \n",
    "    total_loss = 0.5 * (pde_loss + BC_LOSS_WEIGHT * bc_loss + DATA_LOSS_WEIGHT * data_loss)\n",
    "    \n",
    "    return total_loss"
   ]
  },
  {
   "cell_type": "code",
   "execution_count": 25,
   "metadata": {},
   "outputs": [
    {
     "data": {
      "text/plain": [
       "Array(11.1854315, dtype=float32)"
      ]
     },
     "execution_count": 25,
     "metadata": {},
     "output_type": "execute_result"
    }
   ],
   "source": [
    "loss_fn(pinn)"
   ]
  },
  {
   "cell_type": "code",
   "execution_count": 26,
   "metadata": {},
   "outputs": [
    {
     "name": "stdout",
     "output_type": "stream",
     "text": [
      "Epoch: 0, loss: 11.185431480407715\n",
      "Epoch: 100, loss: 11.139760971069336\n",
      "Epoch: 200, loss: 11.137886047363281\n",
      "Epoch: 300, loss: 11.09652328491211\n",
      "Epoch: 400, loss: 10.039813995361328\n",
      "Epoch: 500, loss: 7.417165279388428\n",
      "Epoch: 600, loss: 0.49600908160209656\n",
      "Epoch: 700, loss: 0.41547077894210815\n",
      "Epoch: 800, loss: 0.3891848623752594\n",
      "Epoch: 900, loss: 0.3793860971927643\n",
      "Epoch: 1000, loss: 0.3753046691417694\n",
      "Epoch: 1100, loss: 0.3741507828235626\n",
      "Epoch: 1200, loss: 0.373250275850296\n",
      "Epoch: 1300, loss: 0.37382951378822327\n",
      "Epoch: 1400, loss: 0.3728675842285156\n",
      "Epoch: 1500, loss: 0.3731936514377594\n",
      "Epoch: 1600, loss: 0.37270763516426086\n",
      "Epoch: 1700, loss: 0.37292835116386414\n",
      "Epoch: 1800, loss: 0.37258315086364746\n",
      "Epoch: 1900, loss: 0.37270525097846985\n",
      "Epoch: 2000, loss: 0.3724713921546936\n",
      "Epoch: 2100, loss: 0.3727170526981354\n",
      "Epoch: 2200, loss: 0.3723703622817993\n",
      "Epoch: 2300, loss: 0.37268558144569397\n",
      "Epoch: 2400, loss: 0.3722791373729706\n",
      "Epoch: 2500, loss: 0.3722442090511322\n",
      "Epoch: 2600, loss: 0.3721984624862671\n",
      "Epoch: 2700, loss: 0.37215957045555115\n",
      "Epoch: 2800, loss: 0.3721291422843933\n",
      "Epoch: 2900, loss: 0.372091680765152\n",
      "Epoch: 3000, loss: 0.37234339118003845\n",
      "Epoch: 3100, loss: 0.3720301389694214\n",
      "Epoch: 3200, loss: 0.3722190856933594\n",
      "Epoch: 3300, loss: 0.3719755709171295\n",
      "Epoch: 3400, loss: 0.371949166059494\n",
      "Epoch: 3500, loss: 0.3719440698623657\n",
      "Epoch: 3600, loss: 0.37190353870391846\n",
      "Epoch: 3700, loss: 0.3725428879261017\n",
      "Epoch: 3800, loss: 0.3718622326850891\n",
      "Epoch: 3900, loss: 0.3718472123146057\n",
      "Epoch: 4000, loss: 0.3718249797821045\n",
      "Epoch: 4100, loss: 0.3726150691509247\n",
      "Epoch: 4200, loss: 0.37179285287857056\n",
      "Epoch: 4300, loss: 0.3717767894268036\n",
      "Epoch: 4400, loss: 0.3717650771141052\n",
      "Epoch: 4500, loss: 0.3717491924762726\n",
      "Epoch: 4600, loss: 0.37174180150032043\n",
      "Epoch: 4700, loss: 0.3717247247695923\n",
      "Epoch: 4800, loss: 0.37172555923461914\n",
      "Epoch: 4900, loss: 0.37170302867889404\n",
      "Epoch: 5000, loss: 0.37182852625846863\n",
      "Epoch: 5100, loss: 0.371683269739151\n",
      "Epoch: 5200, loss: 0.37168940901756287\n",
      "Epoch: 5300, loss: 0.37166544795036316\n",
      "Epoch: 5400, loss: 0.3718249201774597\n",
      "Epoch: 5500, loss: 0.37164998054504395\n",
      "Epoch: 5600, loss: 0.37372735142707825\n",
      "Epoch: 5700, loss: 0.37163591384887695\n",
      "Epoch: 5800, loss: 0.37164637446403503\n",
      "Epoch: 5900, loss: 0.3716236650943756\n",
      "Epoch: 6000, loss: 0.3716171979904175\n",
      "Epoch: 6100, loss: 0.3716333210468292\n",
      "Epoch: 6200, loss: 0.3716062903404236\n",
      "Epoch: 6300, loss: 0.37175482511520386\n",
      "Epoch: 6400, loss: 0.37159645557403564\n",
      "Epoch: 6500, loss: 0.372825562953949\n",
      "Epoch: 6600, loss: 0.3715876042842865\n",
      "Epoch: 6700, loss: 0.371604859828949\n",
      "Epoch: 6800, loss: 0.3715793192386627\n",
      "Epoch: 6900, loss: 0.3715764582157135\n",
      "Epoch: 7000, loss: 0.37157291173934937\n",
      "Epoch: 7100, loss: 0.37156781554222107\n",
      "Epoch: 7200, loss: 0.3715667128562927\n",
      "Epoch: 7300, loss: 0.3715614974498749\n",
      "Epoch: 7400, loss: 0.3717193305492401\n",
      "Epoch: 7500, loss: 0.3715559244155884\n",
      "Epoch: 7600, loss: 0.37155380845069885\n",
      "Epoch: 7700, loss: 0.37155139446258545\n",
      "Epoch: 7800, loss: 0.3715474307537079\n",
      "Epoch: 7900, loss: 0.37154698371887207\n",
      "Epoch: 8000, loss: 0.371542364358902\n",
      "Epoch: 8100, loss: 0.3715430796146393\n",
      "Epoch: 8200, loss: 0.3715381324291229\n",
      "Epoch: 8300, loss: 0.3715360760688782\n",
      "Epoch: 8400, loss: 0.37153390049934387\n",
      "Epoch: 8500, loss: 0.3780321776866913\n",
      "Epoch: 8600, loss: 0.37153002619743347\n",
      "Epoch: 8700, loss: 0.3715278208255768\n",
      "Epoch: 8800, loss: 0.3715445399284363\n",
      "Epoch: 8900, loss: 0.371524453163147\n",
      "Epoch: 9000, loss: 0.37344664335250854\n",
      "Epoch: 9100, loss: 0.37152135372161865\n",
      "Epoch: 9200, loss: 0.3715633749961853\n",
      "Epoch: 9300, loss: 0.37151798605918884\n",
      "Epoch: 9400, loss: 0.37151649594306946\n",
      "Epoch: 9500, loss: 0.37152302265167236\n",
      "Epoch: 9600, loss: 0.37151363492012024\n",
      "Epoch: 9700, loss: 0.3716987073421478\n",
      "Epoch: 9800, loss: 0.3715105950832367\n",
      "Epoch: 9900, loss: 0.3717615306377411\n",
      "Epoch: 10000, loss: 0.37150833010673523\n",
      "Epoch: 10100, loss: 0.3715069890022278\n",
      "Epoch: 10200, loss: 0.37374281883239746\n",
      "Epoch: 10300, loss: 0.37150487303733826\n",
      "Epoch: 10400, loss: 0.37150314450263977\n",
      "Epoch: 10500, loss: 0.3715021312236786\n",
      "Epoch: 10600, loss: 0.3715011179447174\n",
      "Epoch: 10700, loss: 0.3715211749076843\n",
      "Epoch: 10800, loss: 0.37149879336357117\n",
      "Epoch: 10900, loss: 0.3715612292289734\n",
      "Epoch: 11000, loss: 0.37149661779403687\n",
      "Epoch: 11100, loss: 0.3715127110481262\n",
      "Epoch: 11200, loss: 0.3714946508407593\n",
      "Epoch: 11300, loss: 0.37162119150161743\n",
      "Epoch: 11400, loss: 0.37149330973625183\n",
      "Epoch: 11500, loss: 0.37149283289909363\n",
      "Epoch: 11600, loss: 0.3714917302131653\n",
      "Epoch: 11700, loss: 0.3714897334575653\n",
      "Epoch: 11800, loss: 0.37150290608406067\n",
      "Epoch: 11900, loss: 0.3714883327484131\n",
      "Epoch: 12000, loss: 0.3719199597835541\n",
      "Epoch: 12100, loss: 0.3714863359928131\n",
      "Epoch: 12200, loss: 0.3762945830821991\n",
      "Epoch: 12300, loss: 0.37148478627204895\n",
      "Epoch: 12400, loss: 0.3714856207370758\n",
      "Epoch: 12500, loss: 0.37148332595825195\n",
      "Epoch: 12600, loss: 0.3714820444583893\n",
      "Epoch: 12700, loss: 0.37148168683052063\n",
      "Epoch: 12800, loss: 0.37148067355155945\n",
      "Epoch: 12900, loss: 0.3715016543865204\n",
      "Epoch: 13000, loss: 0.3714791536331177\n",
      "Epoch: 13100, loss: 0.37173497676849365\n",
      "Epoch: 13200, loss: 0.3714776039123535\n",
      "Epoch: 13300, loss: 0.3788886070251465\n",
      "Epoch: 13400, loss: 0.3714762330055237\n",
      "Epoch: 13500, loss: 0.3714752197265625\n",
      "Epoch: 13600, loss: 0.3719109296798706\n",
      "Epoch: 13700, loss: 0.37147435545921326\n",
      "Epoch: 13800, loss: 0.3714729845523834\n",
      "Epoch: 13900, loss: 0.3716687560081482\n",
      "Epoch: 14000, loss: 0.3714718818664551\n",
      "Epoch: 14100, loss: 0.3750372529029846\n",
      "Epoch: 14200, loss: 0.37147051095962524\n",
      "Epoch: 14300, loss: 0.37146952748298645\n",
      "Epoch: 14400, loss: 0.3714704215526581\n",
      "Epoch: 14500, loss: 0.371468186378479\n",
      "Epoch: 14600, loss: 0.37150871753692627\n",
      "Epoch: 14700, loss: 0.37146681547164917\n",
      "Epoch: 14800, loss: 0.3744843304157257\n",
      "Epoch: 14900, loss: 0.37146568298339844\n",
      "Epoch: 15000, loss: 0.37156304717063904\n",
      "Epoch: 15100, loss: 0.3714645206928253\n",
      "Epoch: 15200, loss: 0.3714633584022522\n",
      "Epoch: 15300, loss: 0.37146902084350586\n",
      "Epoch: 15400, loss: 0.3714621663093567\n",
      "Epoch: 15500, loss: 0.371463805437088\n",
      "Epoch: 15600, loss: 0.37146109342575073\n",
      "Epoch: 15700, loss: 0.37150338292121887\n",
      "Epoch: 15800, loss: 0.3714597225189209\n",
      "Epoch: 15900, loss: 0.3777179419994354\n",
      "Epoch: 16000, loss: 0.37145859003067017\n",
      "Epoch: 16100, loss: 0.37145793437957764\n",
      "Epoch: 16200, loss: 0.37146976590156555\n",
      "Epoch: 16300, loss: 0.37145671248435974\n",
      "Epoch: 16400, loss: 0.371547669172287\n",
      "Epoch: 16500, loss: 0.37145552039146423\n",
      "Epoch: 16600, loss: 0.3718577027320862\n",
      "Epoch: 16700, loss: 0.37145453691482544\n",
      "Epoch: 16800, loss: 0.3720870912075043\n",
      "Epoch: 16900, loss: 0.3714531362056732\n",
      "Epoch: 17000, loss: 0.3714525103569031\n",
      "Epoch: 17100, loss: 0.3714529573917389\n",
      "Epoch: 17200, loss: 0.3714512884616852\n",
      "Epoch: 17300, loss: 0.37145885825157166\n",
      "Epoch: 17400, loss: 0.37144994735717773\n",
      "Epoch: 17500, loss: 0.37549489736557007\n",
      "Epoch: 17600, loss: 0.3714491128921509\n",
      "Epoch: 17700, loss: 0.37144824862480164\n",
      "Epoch: 17800, loss: 0.3715258538722992\n",
      "Epoch: 17900, loss: 0.37144729495048523\n",
      "Epoch: 18000, loss: 0.37189415097236633\n",
      "Epoch: 18100, loss: 0.3714462220668793\n",
      "Epoch: 18200, loss: 0.3714457154273987\n",
      "Epoch: 18300, loss: 0.3714451491832733\n",
      "Epoch: 18400, loss: 0.37144461274147034\n",
      "Epoch: 18500, loss: 0.37146538496017456\n",
      "Epoch: 18600, loss: 0.3714432716369629\n",
      "Epoch: 18700, loss: 0.37316131591796875\n",
      "Epoch: 18800, loss: 0.3714422285556793\n",
      "Epoch: 18900, loss: 0.3715287446975708\n",
      "Epoch: 19000, loss: 0.37144091725349426\n",
      "Epoch: 19100, loss: 0.37160027027130127\n",
      "Epoch: 19200, loss: 0.3714398741722107\n",
      "Epoch: 19300, loss: 0.3718482553958893\n",
      "Epoch: 19400, loss: 0.3714389503002167\n",
      "Epoch: 19500, loss: 0.37222209572792053\n",
      "Epoch: 19600, loss: 0.3714377284049988\n",
      "Epoch: 19700, loss: 0.37321460247039795\n",
      "Epoch: 19800, loss: 0.3714364469051361\n",
      "Epoch: 19900, loss: 0.3717018663883209\n"
     ]
    }
   ],
   "source": [
    "optimizer = optax.adam(LEARNING_RATE)\n",
    "opt_state = optimizer.init(eqx.filter(pinn, eqx.is_array))\n",
    "\n",
    "@eqx.filter_jit\n",
    "def make_step(network, state):\n",
    "    loss, grad = eqx.filter_value_and_grad(loss_fn)(network)\n",
    "    updates, new_state = optimizer.update(grad, state, network)\n",
    "    new_network = eqx.apply_updates(network, updates)\n",
    "    return new_network, new_state, loss\n",
    "\n",
    "loss_history = np.zeros(N_OPTIMIZATION_EPOCHS)\n",
    "\n",
    "for epoch in range(N_OPTIMIZATION_EPOCHS):\n",
    "    pinn, opt_state, loss = make_step(pinn, opt_state)\n",
    "    loss_history[epoch] = loss\n",
    "    \n",
    "    if epoch % 100 == 0:\n",
    "        print(f\"Epoch: {epoch}, loss: {loss}\")"
   ]
  },
  {
   "cell_type": "code",
   "execution_count": 27,
   "metadata": {},
   "outputs": [
    {
     "data": {
      "image/png": "[encoded data removed]",
      "text/plain": [
       "<Figure size 640x480 with 1 Axes>"
      ]
     },
     "metadata": {},
     "output_type": "display_data"
    }
   ],
   "source": [
    "plt.plot(loss_history)\n",
    "plt.yscale(\"log\")"
   ]
  },
  {
   "cell_type": "code",
   "execution_count": 28,
   "metadata": {},
   "outputs": [
    {
     "data": {
      "text/plain": [
       "Text(0.5, 1.0, 'PINN sol')"
      ]
     },
     "execution_count": 28,
     "metadata": {},
     "output_type": "execute_result"
    },
    {
     "data": {
      "image/png": "[encoded data removed]",
      "text/plain": [
       "<Figure size 800x300 with 4 Axes>"
      ]
     },
     "metadata": {},
     "output_type": "display_data"
    }
   ],
   "source": [
    "fig, (ax1, ax2) = plt.subplots(1, 2, figsize=(8, 3))\n",
    "ax1.set_aspect('equal', adjustable='box')\n",
    "ax2.set_aspect('equal', adjustable='box')\n",
    "\n",
    "x_mesh = jnp.linspace(0, 1)\n",
    "y_mesh = jnp.linspace(-1, 1)\n",
    "X, Y = jnp.meshgrid(x_mesh, y_mesh)\n",
    "V = velocity_field(X, Y)\n",
    "im1 = ax1.contourf(X, Y, V, levels=20, cmap=cmap)\n",
    "fig.colorbar(im1, ax=ax1, label='velocity')\n",
    "ax1.set_title(\"Exact sol\")\n",
    "\n",
    "VY_PINN = jax.vmap(pinn)(y_mesh)\n",
    "V_PINN = np.tile(VY_PINN, (X.shape[1], 1)).T\n",
    "im2 = ax2.contourf(X, Y, V_PINN, levels=20, cmap=cmap)\n",
    "fig.colorbar(im2, ax=ax2, label='velocity')\n",
    "ax2.set_title(\"PINN sol\")"
   ]
  }
 ],
 "metadata": {
  "kernelspec": {
   "display_name": "Python 3",
   "language": "python",
   "name": "python3"
  },
  "language_info": {
   "codemirror_mode": {
    "name": "ipython",
    "version": 3
   },
   "file_extension": ".py",
   "mimetype": "text/x-python",
   "name": "python",
   "nbconvert_exporter": "python",
   "pygments_lexer": "ipython3",
   "version": "3.12.5"
  }
 },
 "nbformat": 4,
 "nbformat_minor": 2
}
