{
 "cells": [
  {
   "cell_type": "code",
   "execution_count": 5,
   "metadata": {},
   "outputs": [],
   "source": [
    "import numpy as np\n",
    "\n",
    "import jax\n",
    "import jax.numpy as jnp\n",
    "import jax.random as jr\n",
    "import equinox as eqx\n",
    "import optax\n",
    "\n",
    "import matplotlib.pyplot as plt\n",
    "import scienceplots\n",
    "from cmap import Colormap"
   ]
  },
  {
   "cell_type": "code",
   "execution_count": 6,
   "metadata": {},
   "outputs": [],
   "source": [
    "N_COLLOCATION_POINTS = 10_000\n",
    "N_IC_POINTS = 300\n",
    "N_BC_POINTS = 300\n",
    "\n",
    "LEARNING_RATE = 0.001\n",
    "N_OPTIMIZATION_EPOCHS = 20_000\n",
    "\n",
    "XMIN = -1.0\n",
    "XMAX = 1.0\n",
    "TMIN = 0.0\n",
    "TMAX = 1.0"
   ]
  },
  {
   "cell_type": "code",
   "execution_count": 27,
   "metadata": {},
   "outputs": [],
   "source": [
    "v = 0.01\n",
    "a = 5\n",
    "def exact(x, t):\n",
    "    eterm = jnp.exp(-jnp.pi**2 * v* t)\n",
    "    \n",
    "    return (2 * v * jnp.pi * eterm * jnp.sin(jnp.pi * x)) / (a + eterm * jnp.cos(jnp.pi * x))"
   ]
  },
  {
   "cell_type": "code",
   "execution_count": 28,
   "metadata": {},
   "outputs": [
    {
     "data": {
      "text/plain": [
       "<matplotlib.contour.QuadContourSet at 0x18b56cc5310>"
      ]
     },
     "execution_count": 28,
     "metadata": {},
     "output_type": "execute_result"
    },
    {
     "data": {
      "image/png": "[encoded data removed]",
      "text/plain": [
       "<Figure size 640x480 with 1 Axes>"
      ]
     },
     "metadata": {},
     "output_type": "display_data"
    }
   ],
   "source": [
    "xs = jnp.linspace(0, 1)\n",
    "ts = jnp.linspace(0, 5)\n",
    "X, T = jnp.meshgrid(xs, ts)\n",
    "U = exact(X, T)\n",
    "plt.contourf(X, T, U)"
   ]
  },
  {
   "cell_type": "code",
   "execution_count": 8,
   "metadata": {},
   "outputs": [],
   "source": [
    "key = jr.PRNGKey(42)"
   ]
  },
  {
   "cell_type": "code",
   "execution_count": 9,
   "metadata": {},
   "outputs": [],
   "source": [
    "key, init_key = jr.split(key)\n",
    "pinn = eqx.nn.MLP(\n",
    "    in_size=3,\n",
    "    out_size=3,\n",
    "    width_size=40,\n",
    "    depth=4,\n",
    "    activation=jax.nn.sigmoid,\n",
    "    key=key,\n",
    ")"
   ]
  },
  {
   "cell_type": "code",
   "execution_count": 10,
   "metadata": {},
   "outputs": [],
   "source": [
    "optimizer = optax.adam(LEARNING_RATE)\n",
    "opt_state = optimizer.init(eqx.filter(pinn, eqx.is_array))"
   ]
  },
  {
   "cell_type": "code",
   "execution_count": null,
   "metadata": {},
   "outputs": [],
   "source": [
    "@eqx.filter_jit\n",
    "def loss_fn(network):\n",
    "    pde_res_coll = jax.vmap(pde_residuum, in_axes=(None, 0))(network, coll_points)\n",
    "    pde_loss = jnp.mean(jnp.square(pde_res_coll))\n",
    "    \n",
    "    data_res = jax.vmap(data_residuum, in_axes=(None, 0))(network, data_points)\n",
    "    data_loss = jnp.mean(jnp.square(data_res))\n",
    "    \n",
    "    total_loss = 0.5 * (pde_loss + DATA_LOSS_WEIGHT * data_loss)\n",
    "    \n",
    "    return total_loss\n",
    "\n",
    "@eqx.filter_jit\n",
    "def make_step(network, state):\n",
    "    loss, grad = eqx.filter_value_and_grad(loss_fn)(network)\n",
    "    updates, new_state = optimizer.update(grad, state, network)\n",
    "    new_network = eqx.apply_updates(network, updates)\n",
    "    return new_network, new_state, loss"
   ]
  }
 ],
 "metadata": {
  "kernelspec": {
   "display_name": "Python 3",
   "language": "python",
   "name": "python3"
  },
  "language_info": {
   "codemirror_mode": {
    "name": "ipython",
    "version": 3
   },
   "file_extension": ".py",
   "mimetype": "text/x-python",
   "name": "python",
   "nbconvert_exporter": "python",
   "pygments_lexer": "ipython3",
   "version": "3.12.5"
  }
 },
 "nbformat": 4,
 "nbformat_minor": 2
}
