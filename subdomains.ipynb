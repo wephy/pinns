{
 "cells": [
  {
   "cell_type": "code",
   "execution_count": null,
   "metadata": {},
   "outputs": [],
   "source": [
    "import matplotlib.pyplot as plt\n",
    "import numpy as np"
   ]
  },
  {
   "cell_type": "code",
   "execution_count": 2,
   "metadata": {},
   "outputs": [
    {
     "data": {
      "image/png": "[encoded data removed]",
      "text/plain": [
       "<Figure size 640x480 with 1 Axes>"
      ]
     },
     "metadata": {},
     "output_type": "display_data"
    }
   ],
   "source": [
    "import matplotlib.pyplot as plt\n",
    "import matplotlib.patches as patches\n",
    "\n",
    "def plot_overlapping_squares(big_size, factor, grid_dim):\n",
    "    spacing = big_size / grid_dim\n",
    "    small_size = spacing * factor\n",
    "    assert 1 < factor <= grid_dim, \"Factor must be > 1 and <= grid_dim.\"\n",
    "\n",
    "    fig, ax = plt.subplots()\n",
    "    ax.set_xlim(0, big_size)\n",
    "    ax.set_ylim(0, big_size)\n",
    "    ax.set_aspect('equal')\n",
    "\n",
    "    # Draw big square\n",
    "    ax.add_patch(patches.Rectangle((0, 0), big_size, big_size, edgecolor='black', fill=False))\n",
    "    \n",
    "    # Draw smaller squares\n",
    "    for i in range(grid_dim):\n",
    "        for j in range(grid_dim):\n",
    "            cx, cy = (i + 0.5) * spacing, (j + 0.5) * spacing\n",
    "            llx, lly = max(0, cx - small_size / 2), max(0, cy - small_size / 2)\n",
    "            llx, lly = min(llx, big_size - small_size), min(lly, big_size - small_size)\n",
    "            ax.add_patch(patches.Rectangle((llx, lly), small_size, small_size, edgecolor='blue', alpha=0.5, fill=True))\n",
    "\n",
    "    plt.show()\n",
    "\n",
    "# Example usage\n",
    "plot_overlapping_squares(10, 1.2, 4)"
   ]
  }
 ],
 "metadata": {
  "kernelspec": {
   "display_name": "Python 3",
   "language": "python",
   "name": "python3"
  },
  "language_info": {
   "codemirror_mode": {
    "name": "ipython",
    "version": 3
   },
   "file_extension": ".py",
   "mimetype": "text/x-python",
   "name": "python",
   "nbconvert_exporter": "python",
   "pygments_lexer": "ipython3",
   "version": "3.12.5"
  }
 },
 "nbformat": 4,
 "nbformat_minor": 2
}
